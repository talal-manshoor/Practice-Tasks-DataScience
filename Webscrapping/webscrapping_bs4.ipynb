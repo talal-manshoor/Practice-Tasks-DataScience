{
 "cells": [
  {
   "cell_type": "code",
   "execution_count": 10,
   "id": "c712ed24-035e-44db-a354-eb110dfe5090",
   "metadata": {},
   "outputs": [],
   "source": [
    "import requests \n",
    "from bs4 import BeautifulSoup"
   ]
  },
  {
   "cell_type": "code",
   "execution_count": 22,
   "id": "2e1e66eb-0bb1-405f-ab32-46f449717d54",
   "metadata": {},
   "outputs": [],
   "source": [
    "url = \"https://olympus.mygreatlearning.com/dashboard\""
   ]
  },
  {
   "cell_type": "code",
   "execution_count": 23,
   "id": "cb430110-f652-4288-b664-0ecd3a9851e1",
   "metadata": {},
   "outputs": [],
   "source": [
    "res = requests.get(url)\n",
    "scrap = res.content\n",
    "soup = BeautifulSoup(scrap, \"html.parser\")"
   ]
  },
  {
   "cell_type": "code",
   "execution_count": 24,
   "id": "7fc8de99-59cd-44d7-9256-8c66cfbe16e9",
   "metadata": {},
   "outputs": [],
   "source": [
    "res.close()"
   ]
  },
  {
   "cell_type": "code",
   "execution_count": 25,
   "id": "1a51aeb3-76ed-4d32-8f03-56e01c247279",
   "metadata": {
    "collapsed": true,
    "jupyter": {
     "outputs_hidden": true
    },
    "tags": []
   },
   "outputs": [
    {
     "data": {
      "text/plain": [
       "['html',\n",
       " '\\n',\n",
       " <html lang=\"en\">\n",
       " <head>\n",
       " <meta charset=\"utf-8\"/>\n",
       " <meta content=\"IE=edge\" http-equiv=\"X-UA-Compatible\"/>\n",
       " <meta content=\"width=device-width, initial-scale=1\" name=\"viewport\"/>\n",
       " <!-- The above 3 meta tags *must* come first in the head; any other head content must come *after* these tags -->\n",
       " <title>Greatlearning login </title>\n",
       " <link href=\"https://d9jmtjs5r4cgq.cloudfront.net/images/branding/favicon-v1-2.ico\" rel=\"icon\" type=\"image/x-icon\"/>\n",
       " <!-- Bootstrap -->\n",
       " <link href=\"/css/vendor/main/bootstrap.min.css\" rel=\"stylesheet\"/>\n",
       " <link href=\"/gl/css/style.css?v=4\" rel=\"stylesheet\"/>\n",
       " <meta content=\"authenticity_token\" name=\"csrf-param\">\n",
       " <meta content=\"Tweuyd4WxtakDQSbByZQVuDDM/fsgGSzFr2I41p5Iu0CRYGRsWPzgPRUUvpzYjg3oZpQz6v4Hft83NiHKShblA==\" name=\"csrf-token\">\n",
       " <!-- HTML5 shim and Respond.js for IE8 support of HTML5 elements and media queries -->\n",
       " <!-- WARNING: Respond.js doesn't work if you view the page via file:// -->\n",
       " <!--[if lt IE 9]>\n",
       "   <script src=\"https://oss.maxcdn.com/html5shiv/3.7.3/html5shiv.min.js\"></script>\n",
       "   <script src=\"https://oss.maxcdn.com/respond/1.4.2/respond.min.js\"></script>\n",
       "   <![endif]-->\n",
       " </meta></meta></head>\n",
       " <body>\n",
       " <div class=\"main\">\n",
       " <div class=\"login-wrap\">\n",
       " <div class=\"login-container\">\n",
       " <div class=\"row row-eq-height\">\n",
       " <div class=\"col-sm-12\">\n",
       " <div class=\"login-form-wrapper\">\n",
       " <div class=\"login-form-container\">\n",
       " <div class=\"text-center\">\n",
       " <img class=\"band-img\" src=\"https://d9jmtjs5r4cgq.cloudfront.net/images/branding/greatlearning-brand-v1-2.svg\"/>\n",
       " </div>\n",
       " <form accept-charset=\"UTF-8\" action=\"/login\" id=\"login_form\" method=\"post\" style=\"display: block;\"><input name=\"utf8\" type=\"hidden\" value=\"✓\"/><input name=\"authenticity_token\" type=\"hidden\" value=\"DH7bOe0PsZNIbkcTSZt0yXrnKfxCttxZk7UX3OGNTGtBPPRhgnqExRg3EXI93xyoO75KxAXOpRH51Ee4ktw1Eg==\"/>\n",
       " <h3 class=\"text-center title\">Olympus Login</h3>\n",
       " <div class=\"alert alert-warning\">You must be logged in to access this page</div>\n",
       " <script src=\"https://www.google.com/recaptcha/api.js?render=6LdpfU0bAAAAAEwXOab0sR1BiVsp-dACm7DTnt40\"></script>\n",
       " <input id=\"recaptcha_token_olympus_login\" name=\"g-recaptcha-response-data[olympus_login]\" type=\"hidden\"/>\n",
       " <div data-value=\"6LdpfU0bAAAAAEwXOab0sR1BiVsp-dACm7DTnt40\" id=\"sitekey_olympus_login\" type=\"hidden\"></div>\n",
       " <input id=\"pseudonymSessionEmail\" name=\"pseudonym_session[email]\" type=\"hidden\" value=\"true\"/>\n",
       " <div class=\"form-group\" id=\"loginGroup\">\n",
       " <label class=\"label-control\" for=\"email\">Email Address</label>\n",
       " <input class=\"form-control\" id=\"login\" name=\"pseudonym_session[unique_id]\" type=\"text\" value=\"\"/>\n",
       " <label class=\"label-control\" for=\"email\" id=\"loginErrorLabel\"></label>\n",
       " </div>\n",
       " <div class=\"form-group\" id=\"passwordGroup\">\n",
       " <label class=\"label-control\" for=\"password\">Password</label>\n",
       " <input autocomplete=\"off\" class=\"form-control\" id=\"password\" name=\"pseudonym_session[password]\" type=\"password\"/>\n",
       " <span class=\"field-icon toggle-password\" style=\"float: right;margin-left: -25px;margin-top: -36px;position: relative;z-index: 2;margin-right: 15px;\" toggle=\"#password\">\n",
       " <img id=\"visibilityOn\" src=\"https://d9jmtjs5r4cgq.cloudfront.net/images/branding/visibility-on.svg\"/>\n",
       " <img id=\"visibilityOff\" src=\"https://d9jmtjs5r4cgq.cloudfront.net/images/branding/visibility_off-24px.svg\" style=\"display: none;\"/>\n",
       " </span>\n",
       " <label class=\"label-control\" for=\"email\" id=\"passwordErrorLabel\"></label>\n",
       " </div>\n",
       " <label class=\"custom-checkmark\" style=\"display: none;\">Stay signed in\n",
       "                     <input checked=\"checked\" name=\"pseudonym_session[remember_me]\" type=\"checkbox\" value=\"1\"/>\n",
       " <span class=\"checkmark\"></span>\n",
       " </label>\n",
       " <div class=\"flex alternate-link\">\n",
       " <div>\n",
       " <a href=\"#\" id=\"forgotPasswordLink\">Forgot password?</a>\n",
       " </div>\n",
       " <div>\n",
       " <button class=\"btn login-btn\" data-action=\"olympus_login\" id=\"reCaptchaLoginSubmitButton\">Login</button>\n",
       " </div>\n",
       " </div>\n",
       " <div class=\"text-center line-wrapper\">\n",
       " <div class=\"gray-line\"></div>\n",
       " <div class=\"line-text\">Or</div>\n",
       " <div class=\"gray-line\"></div>\n",
       " </div>\n",
       " <a class=\"btn continue-with-google-button\" href=\"https://olympus.mygreatlearning.com/login/google\" id=\"continue-with-google\">\n",
       " <div class=\"google-button-image-container\">\n",
       " <img src=\"/images/login/google-icon.svg\"/>\n",
       " </div>\n",
       " <div class=\"google-button-text-container\">\n",
       "                           Continue with google\n",
       "                       </div>\n",
       " </a>\n",
       " </form> <form accept-charset=\"UTF-8\" action=\"/forgot_password\" id=\"forgot_password_form\" method=\"post\" style=\"display: none;\"><input name=\"utf8\" type=\"hidden\" value=\"✓\"><input name=\"authenticity_token\" type=\"hidden\" value=\"uxr/v5hyxe7YQg7TeCghlID3hrLktClvEfLsqtneikn2WNDn9wfwuIgbWLIMbEn1wa7liqPMUCd7k7zOqo/zMA==\">\n",
       " <div>\n",
       " <h3 class=\"text-center title\">Reset Password</h3>\n",
       " <p>Please enter your registered email address and we will email you a reset password link.</p>\n",
       " </div>\n",
       " <div class=\"form-group forgot-pass-input\" id=\"forgotGroup\">\n",
       " <label class=\"label-control\" for=\"email\">Email Address</label>\n",
       " <input class=\"form-control\" id=\"email\" name=\"pseudonym_session[unique_id_forgot]\" type=\"text\"/>\n",
       " <label class=\"label-control\" for=\"email\" id=\"forgotErrorLabel\"></label>\n",
       " </div>\n",
       " <div class=\"flex alternate-link\">\n",
       " <div>\n",
       " <a href=\"#\" id=\"backToLoginLink\">Back to Login</a>\n",
       " </div>\n",
       " <div>\n",
       " <button class=\"btn login-btn\" id=\"requestPassword\" type=\"submit\">Send reset link</button>\n",
       " </div>\n",
       " </div>\n",
       " </input></input></form> </div>\n",
       " </div>\n",
       " </div>\n",
       " </div>\n",
       " </div>\n",
       " </div>\n",
       " </div>\n",
       " <!-- jQuery (necessary for Bootstrap's JavaScript plugins) -->\n",
       " <script src=\"/javascripts/vendor/main/jquery.min.js\"></script>\n",
       " <!-- Include all compiled plugins (below), or include individual files as needed -->\n",
       " <script src=\"/javascripts/vendor/main/bootstrap.min.js\"></script>\n",
       " <script src=\"/gl/js/login.js?v=2.3\"></script>\n",
       " </body>\n",
       " </html>,\n",
       " '\\n']"
      ]
     },
     "execution_count": 25,
     "metadata": {},
     "output_type": "execute_result"
    }
   ],
   "source": [
    "soup.contents"
   ]
  },
  {
   "cell_type": "code",
   "execution_count": 26,
   "id": "9c0a91a4-788f-4cb2-bbf5-3796dbc9b997",
   "metadata": {
    "collapsed": true,
    "jupyter": {
     "outputs_hidden": true
    },
    "tags": []
   },
   "outputs": [
    {
     "name": "stdout",
     "output_type": "stream",
     "text": [
      "<bound method Tag.prettify of <!DOCTYPE html>\n",
      "\n",
      "<html lang=\"en\">\n",
      "<head>\n",
      "<meta charset=\"utf-8\"/>\n",
      "<meta content=\"IE=edge\" http-equiv=\"X-UA-Compatible\"/>\n",
      "<meta content=\"width=device-width, initial-scale=1\" name=\"viewport\"/>\n",
      "<!-- The above 3 meta tags *must* come first in the head; any other head content must come *after* these tags -->\n",
      "<title>Greatlearning login </title>\n",
      "<link href=\"https://d9jmtjs5r4cgq.cloudfront.net/images/branding/favicon-v1-2.ico\" rel=\"icon\" type=\"image/x-icon\"/>\n",
      "<!-- Bootstrap -->\n",
      "<link href=\"/css/vendor/main/bootstrap.min.css\" rel=\"stylesheet\"/>\n",
      "<link href=\"/gl/css/style.css?v=4\" rel=\"stylesheet\"/>\n",
      "<meta content=\"authenticity_token\" name=\"csrf-param\">\n",
      "<meta content=\"Tweuyd4WxtakDQSbByZQVuDDM/fsgGSzFr2I41p5Iu0CRYGRsWPzgPRUUvpzYjg3oZpQz6v4Hft83NiHKShblA==\" name=\"csrf-token\">\n",
      "<!-- HTML5 shim and Respond.js for IE8 support of HTML5 elements and media queries -->\n",
      "<!-- WARNING: Respond.js doesn't work if you view the page via file:// -->\n",
      "<!--[if lt IE 9]>\n",
      "  <script src=\"https://oss.maxcdn.com/html5shiv/3.7.3/html5shiv.min.js\"></script>\n",
      "  <script src=\"https://oss.maxcdn.com/respond/1.4.2/respond.min.js\"></script>\n",
      "  <![endif]-->\n",
      "</meta></meta></head>\n",
      "<body>\n",
      "<div class=\"main\">\n",
      "<div class=\"login-wrap\">\n",
      "<div class=\"login-container\">\n",
      "<div class=\"row row-eq-height\">\n",
      "<div class=\"col-sm-12\">\n",
      "<div class=\"login-form-wrapper\">\n",
      "<div class=\"login-form-container\">\n",
      "<div class=\"text-center\">\n",
      "<img class=\"band-img\" src=\"https://d9jmtjs5r4cgq.cloudfront.net/images/branding/greatlearning-brand-v1-2.svg\"/>\n",
      "</div>\n",
      "<form accept-charset=\"UTF-8\" action=\"/login\" id=\"login_form\" method=\"post\" style=\"display: block;\"><input name=\"utf8\" type=\"hidden\" value=\"✓\"/><input name=\"authenticity_token\" type=\"hidden\" value=\"DH7bOe0PsZNIbkcTSZt0yXrnKfxCttxZk7UX3OGNTGtBPPRhgnqExRg3EXI93xyoO75KxAXOpRH51Ee4ktw1Eg==\"/>\n",
      "<h3 class=\"text-center title\">Olympus Login</h3>\n",
      "<div class=\"alert alert-warning\">You must be logged in to access this page</div>\n",
      "<script src=\"https://www.google.com/recaptcha/api.js?render=6LdpfU0bAAAAAEwXOab0sR1BiVsp-dACm7DTnt40\"></script>\n",
      "<input id=\"recaptcha_token_olympus_login\" name=\"g-recaptcha-response-data[olympus_login]\" type=\"hidden\"/>\n",
      "<div data-value=\"6LdpfU0bAAAAAEwXOab0sR1BiVsp-dACm7DTnt40\" id=\"sitekey_olympus_login\" type=\"hidden\"></div>\n",
      "<input id=\"pseudonymSessionEmail\" name=\"pseudonym_session[email]\" type=\"hidden\" value=\"true\"/>\n",
      "<div class=\"form-group\" id=\"loginGroup\">\n",
      "<label class=\"label-control\" for=\"email\">Email Address</label>\n",
      "<input class=\"form-control\" id=\"login\" name=\"pseudonym_session[unique_id]\" type=\"text\" value=\"\"/>\n",
      "<label class=\"label-control\" for=\"email\" id=\"loginErrorLabel\"></label>\n",
      "</div>\n",
      "<div class=\"form-group\" id=\"passwordGroup\">\n",
      "<label class=\"label-control\" for=\"password\">Password</label>\n",
      "<input autocomplete=\"off\" class=\"form-control\" id=\"password\" name=\"pseudonym_session[password]\" type=\"password\"/>\n",
      "<span class=\"field-icon toggle-password\" style=\"float: right;margin-left: -25px;margin-top: -36px;position: relative;z-index: 2;margin-right: 15px;\" toggle=\"#password\">\n",
      "<img id=\"visibilityOn\" src=\"https://d9jmtjs5r4cgq.cloudfront.net/images/branding/visibility-on.svg\"/>\n",
      "<img id=\"visibilityOff\" src=\"https://d9jmtjs5r4cgq.cloudfront.net/images/branding/visibility_off-24px.svg\" style=\"display: none;\"/>\n",
      "</span>\n",
      "<label class=\"label-control\" for=\"email\" id=\"passwordErrorLabel\"></label>\n",
      "</div>\n",
      "<label class=\"custom-checkmark\" style=\"display: none;\">Stay signed in\n",
      "                    <input checked=\"checked\" name=\"pseudonym_session[remember_me]\" type=\"checkbox\" value=\"1\"/>\n",
      "<span class=\"checkmark\"></span>\n",
      "</label>\n",
      "<div class=\"flex alternate-link\">\n",
      "<div>\n",
      "<a href=\"#\" id=\"forgotPasswordLink\">Forgot password?</a>\n",
      "</div>\n",
      "<div>\n",
      "<button class=\"btn login-btn\" data-action=\"olympus_login\" id=\"reCaptchaLoginSubmitButton\">Login</button>\n",
      "</div>\n",
      "</div>\n",
      "<div class=\"text-center line-wrapper\">\n",
      "<div class=\"gray-line\"></div>\n",
      "<div class=\"line-text\">Or</div>\n",
      "<div class=\"gray-line\"></div>\n",
      "</div>\n",
      "<a class=\"btn continue-with-google-button\" href=\"https://olympus.mygreatlearning.com/login/google\" id=\"continue-with-google\">\n",
      "<div class=\"google-button-image-container\">\n",
      "<img src=\"/images/login/google-icon.svg\"/>\n",
      "</div>\n",
      "<div class=\"google-button-text-container\">\n",
      "                          Continue with google\n",
      "                      </div>\n",
      "</a>\n",
      "</form> <form accept-charset=\"UTF-8\" action=\"/forgot_password\" id=\"forgot_password_form\" method=\"post\" style=\"display: none;\"><input name=\"utf8\" type=\"hidden\" value=\"✓\"><input name=\"authenticity_token\" type=\"hidden\" value=\"uxr/v5hyxe7YQg7TeCghlID3hrLktClvEfLsqtneikn2WNDn9wfwuIgbWLIMbEn1wa7liqPMUCd7k7zOqo/zMA==\">\n",
      "<div>\n",
      "<h3 class=\"text-center title\">Reset Password</h3>\n",
      "<p>Please enter your registered email address and we will email you a reset password link.</p>\n",
      "</div>\n",
      "<div class=\"form-group forgot-pass-input\" id=\"forgotGroup\">\n",
      "<label class=\"label-control\" for=\"email\">Email Address</label>\n",
      "<input class=\"form-control\" id=\"email\" name=\"pseudonym_session[unique_id_forgot]\" type=\"text\"/>\n",
      "<label class=\"label-control\" for=\"email\" id=\"forgotErrorLabel\"></label>\n",
      "</div>\n",
      "<div class=\"flex alternate-link\">\n",
      "<div>\n",
      "<a href=\"#\" id=\"backToLoginLink\">Back to Login</a>\n",
      "</div>\n",
      "<div>\n",
      "<button class=\"btn login-btn\" id=\"requestPassword\" type=\"submit\">Send reset link</button>\n",
      "</div>\n",
      "</div>\n",
      "</input></input></form> </div>\n",
      "</div>\n",
      "</div>\n",
      "</div>\n",
      "</div>\n",
      "</div>\n",
      "</div>\n",
      "<!-- jQuery (necessary for Bootstrap's JavaScript plugins) -->\n",
      "<script src=\"/javascripts/vendor/main/jquery.min.js\"></script>\n",
      "<!-- Include all compiled plugins (below), or include individual files as needed -->\n",
      "<script src=\"/javascripts/vendor/main/bootstrap.min.js\"></script>\n",
      "<script src=\"/gl/js/login.js?v=2.3\"></script>\n",
      "</body>\n",
      "</html>\n",
      ">\n"
     ]
    }
   ],
   "source": [
    "print (soup.prettify)"
   ]
  },
  {
   "cell_type": "code",
   "execution_count": 27,
   "id": "89bea9e4-0caa-4de9-8e85-661d4ed56e2f",
   "metadata": {
    "collapsed": true,
    "jupyter": {
     "outputs_hidden": true
    },
    "tags": []
   },
   "outputs": [
    {
     "data": {
      "text/plain": [
       "[<meta charset=\"utf-8\"/>,\n",
       " <meta content=\"IE=edge\" http-equiv=\"X-UA-Compatible\"/>,\n",
       " <meta content=\"width=device-width, initial-scale=1\" name=\"viewport\"/>,\n",
       " <title>Greatlearning login </title>,\n",
       " <link href=\"https://d9jmtjs5r4cgq.cloudfront.net/images/branding/favicon-v1-2.ico\" rel=\"icon\" type=\"image/x-icon\"/>,\n",
       " <link href=\"/css/vendor/main/bootstrap.min.css\" rel=\"stylesheet\"/>,\n",
       " <link href=\"/gl/css/style.css?v=4\" rel=\"stylesheet\"/>,\n",
       " <meta content=\"authenticity_token\" name=\"csrf-param\">\n",
       " <meta content=\"Tweuyd4WxtakDQSbByZQVuDDM/fsgGSzFr2I41p5Iu0CRYGRsWPzgPRUUvpzYjg3oZpQz6v4Hft83NiHKShblA==\" name=\"csrf-token\">\n",
       " <!-- HTML5 shim and Respond.js for IE8 support of HTML5 elements and media queries -->\n",
       " <!-- WARNING: Respond.js doesn't work if you view the page via file:// -->\n",
       " <!--[if lt IE 9]>\n",
       "   <script src=\"https://oss.maxcdn.com/html5shiv/3.7.3/html5shiv.min.js\"></script>\n",
       "   <script src=\"https://oss.maxcdn.com/respond/1.4.2/respond.min.js\"></script>\n",
       "   <![endif]-->\n",
       " </meta></meta>,\n",
       " <meta content=\"Tweuyd4WxtakDQSbByZQVuDDM/fsgGSzFr2I41p5Iu0CRYGRsWPzgPRUUvpzYjg3oZpQz6v4Hft83NiHKShblA==\" name=\"csrf-token\">\n",
       " <!-- HTML5 shim and Respond.js for IE8 support of HTML5 elements and media queries -->\n",
       " <!-- WARNING: Respond.js doesn't work if you view the page via file:// -->\n",
       " <!--[if lt IE 9]>\n",
       "   <script src=\"https://oss.maxcdn.com/html5shiv/3.7.3/html5shiv.min.js\"></script>\n",
       "   <script src=\"https://oss.maxcdn.com/respond/1.4.2/respond.min.js\"></script>\n",
       "   <![endif]-->\n",
       " </meta>]"
      ]
     },
     "execution_count": 27,
     "metadata": {},
     "output_type": "execute_result"
    }
   ],
   "source": [
    "soup.head()"
   ]
  },
  {
   "cell_type": "code",
   "execution_count": 29,
   "id": "963fd96e-a3f4-4694-890c-319e1cf2b71a",
   "metadata": {
    "tags": []
   },
   "outputs": [
    {
     "data": {
      "text/plain": [
       "[]"
      ]
     },
     "execution_count": 29,
     "metadata": {},
     "output_type": "execute_result"
    }
   ],
   "source": [
    "soup.title()"
   ]
  },
  {
   "cell_type": "code",
   "execution_count": 32,
   "id": "98d36c25-d0c7-4fd3-b600-feb7b79bba79",
   "metadata": {},
   "outputs": [
    {
     "name": "stdout",
     "output_type": "stream",
     "text": [
      "#\n",
      "https://olympus.mygreatlearning.com/login/google\n",
      "#\n"
     ]
    }
   ],
   "source": [
    "for href in soup.findAll(\"a\",href=True):\n",
    "    print(href[\"href\"])"
   ]
  },
  {
   "cell_type": "code",
   "execution_count": null,
   "id": "02ff5283-4bfc-422d-a1ba-e5c989fd775d",
   "metadata": {},
   "outputs": [],
   "source": []
  }
 ],
 "metadata": {
  "kernelspec": {
   "display_name": "Python 3 (ipykernel)",
   "language": "python",
   "name": "python3"
  },
  "language_info": {
   "codemirror_mode": {
    "name": "ipython",
    "version": 3
   },
   "file_extension": ".py",
   "mimetype": "text/x-python",
   "name": "python",
   "nbconvert_exporter": "python",
   "pygments_lexer": "ipython3",
   "version": "3.9.12"
  }
 },
 "nbformat": 4,
 "nbformat_minor": 5
}

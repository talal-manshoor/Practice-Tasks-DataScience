{
  "metadata": {
    "language_info": {
      "codemirror_mode": {
        "name": "python",
        "version": 3
      },
      "file_extension": ".py",
      "mimetype": "text/x-python",
      "name": "python",
      "nbconvert_exporter": "python",
      "pygments_lexer": "ipython3",
      "version": "3.8"
    },
    "kernelspec": {
      "name": "python",
      "display_name": "Python (Pyodide)",
      "language": "python"
    },
    "toc-showmarkdowntxt": false,
    "toc-autonumbering": false,
    "toc-showcode": false
  },
  "nbformat_minor": 4,
  "nbformat": 4,
  "cells": [
    {
      "cell_type": "code",
      "source": "#reading file\nimport pandas as pd\ndataset = pd.read_csv(\"airlines_dataset.csv\")\nprint(dataset)",
      "metadata": {
        "tags": [],
        "collapsed": true,
        "jupyter": {
          "outputs_hidden": true,
          "source_hidden": true
        },
        "trusted": true
      },
      "execution_count": 5,
      "outputs": [
        {
          "name": "stdout",
          "text": "   UPDATED ENTRY_DATE EVENT_LCL_DATE EVENT_LCL_TIME LOC_CITY_NAME  \\\n0       No  19-FEB-16      19-FEB-16      00:45:00Z    MARSHVILLE   \n1       No  19-FEB-16      18-FEB-16      23:55:00Z     TAVERNIER   \n2       No  19-FEB-16      18-FEB-16      22:14:00Z       TRENTON   \n3       No  19-FEB-16      18-FEB-16      17:10:00Z     ASHEVILLE   \n4       No  19-FEB-16      18-FEB-16      00:26:00Z     TALKEETNA   \n..     ...        ...            ...            ...           ...   \n78      No  08-FEB-16      31-DEC-15      17:00:00Z   SAN ANTONIO   \n79      No  08-FEB-16      05-FEB-16      11:17:00Z      MARICOPA   \n80      No  08-FEB-16      05-FEB-16      23:02:00Z     SAN PEDRO   \n81      No  08-FEB-16      05-FEB-16      23:02:00Z     SAN PEDRO   \n82     Yes  02-FEB-16      02-FEB-16      01:52:00Z        MOBILE   \n\n    LOC_STATE_NAME LOC_CNTRY_NAME  \\\n0   North Carolina            NaN   \n1          Florida            NaN   \n2       New Jersey            NaN   \n3   North Carolina            NaN   \n4           Alaska            NaN   \n..             ...            ...   \n78           Texas            NaN   \n79         Arizona            NaN   \n80      California            NaN   \n81      California            NaN   \n82         Alabama            NaN   \n\n                                             RMK_TEXT EVENT_TYPE_DESC  \\\n0   AIRCRAFT CRASHED INTO TREES, THE 1 PERSON ON B...        Accident   \n1   AIRCRAFT ON LANDING WENT OFF THE END OF THE RU...        Incident   \n2   AIRCRAFT ON FINAL SUSTAINED A BIRD STRIKE, LAN...        Incident   \n3   AIRCRAFT ON LANDING, GEAR COLLAPSED, ASHEVILLE...        Incident   \n4   AIRCRAFT ON LANDING, NOSE GEAR COLLAPSED, TALK...        Incident   \n..                                                ...             ...   \n78  AIRCRAFT ON LANDING, GROUND LOOPED, BULVERDE A...        Accident   \n79  AIRCRAFT CRASHED UNDER UNKNOWN CIRCUMSTANCES, ...        Accident   \n80  N9872R, BEECH M35 AIRCRAFT, AND N5057G, BELLAN...        Accident   \n81  N9872R, BEECH M35 AIRCRAFT, AND N5057G, BELLAN...        Accident   \n82  N784CP AIRCRAFT CRASHED INTO A WOODED AREA NEA...        Accident   \n\n                   FSDO_DESC  ... PAX_INJ_NONE PAX_INJ_MINOR PAX_INJ_SERIOUS  \\\n0      FAA Charlotte FSDO-68  ...          NaN           NaN             NaN   \n1          FAA Miami FSDO-19  ...          NaN           NaN             NaN   \n2   FAA Philadelphia FSDO-17  ...          NaN           NaN             NaN   \n3      FAA Charlotte FSDO-68  ...          NaN           NaN             NaN   \n4      FAA Anchorage FSDO-03  ...          NaN           1.0             NaN   \n..                       ...  ...          ...           ...             ...   \n78   FAA San Antonio FSDO-17  ...          NaN           NaN             NaN   \n79    FAA Scottsdale FSDO-07  ...          NaN           NaN             NaN   \n80    FAA Long Beach FSDO-05  ...          NaN           NaN             NaN   \n81    FAA Long Beach FSDO-05  ...          NaN           NaN             NaN   \n82    FAA Birmingham FSDO-09  ...          NaN           NaN             NaN   \n\n   PAX_INJ_FATAL PAX_INJ_UNK  GRND_INJ_NONE GRND_INJ_MINOR GRND_INJ_SERIOUS  \\\n0            NaN         NaN            NaN            NaN              NaN   \n1            NaN         NaN            NaN            NaN              NaN   \n2            NaN         NaN            NaN            NaN              NaN   \n3            NaN         NaN            NaN            NaN              NaN   \n4            NaN         NaN            NaN            NaN              NaN   \n..           ...         ...            ...            ...              ...   \n78           NaN         NaN            NaN            NaN              NaN   \n79           NaN         NaN            NaN            NaN              NaN   \n80           NaN         NaN            NaN            NaN              NaN   \n81           NaN         NaN            NaN            NaN              NaN   \n82           NaN         NaN            NaN            NaN              NaN   \n\n   GRND_INJ_FATAL  GRND_INJ_UNK  \n0             NaN           NaN  \n1             NaN           NaN  \n2             NaN           NaN  \n3             NaN           NaN  \n4             NaN           NaN  \n..            ...           ...  \n78            NaN           NaN  \n79            NaN           NaN  \n80            NaN           NaN  \n81            NaN           NaN  \n82            NaN           NaN  \n\n[83 rows x 42 columns]\n",
          "output_type": "stream"
        }
      ]
    },
    {
      "cell_type": "code",
      "source": "dataset.shape",
      "metadata": {
        "trusted": true
      },
      "execution_count": 7,
      "outputs": [
        {
          "execution_count": 7,
          "output_type": "execute_result",
          "data": {
            "text/plain": "(83, 42)"
          },
          "metadata": {}
        }
      ]
    },
    {
      "cell_type": "code",
      "source": "dataset.head()",
      "metadata": {
        "collapsed": true,
        "jupyter": {
          "outputs_hidden": true
        },
        "tags": [],
        "trusted": true
      },
      "execution_count": 9,
      "outputs": [
        {
          "execution_count": 9,
          "output_type": "execute_result",
          "data": {
            "text/plain": "  UPDATED ENTRY_DATE EVENT_LCL_DATE EVENT_LCL_TIME LOC_CITY_NAME  \\\n0      No  19-FEB-16      19-FEB-16      00:45:00Z    MARSHVILLE   \n1      No  19-FEB-16      18-FEB-16      23:55:00Z     TAVERNIER   \n2      No  19-FEB-16      18-FEB-16      22:14:00Z       TRENTON   \n3      No  19-FEB-16      18-FEB-16      17:10:00Z     ASHEVILLE   \n4      No  19-FEB-16      18-FEB-16      00:26:00Z     TALKEETNA   \n\n   LOC_STATE_NAME LOC_CNTRY_NAME  \\\n0  North Carolina            NaN   \n1         Florida            NaN   \n2      New Jersey            NaN   \n3  North Carolina            NaN   \n4          Alaska            NaN   \n\n                                            RMK_TEXT EVENT_TYPE_DESC  \\\n0  AIRCRAFT CRASHED INTO TREES, THE 1 PERSON ON B...        Accident   \n1  AIRCRAFT ON LANDING WENT OFF THE END OF THE RU...        Incident   \n2  AIRCRAFT ON FINAL SUSTAINED A BIRD STRIKE, LAN...        Incident   \n3  AIRCRAFT ON LANDING, GEAR COLLAPSED, ASHEVILLE...        Incident   \n4  AIRCRAFT ON LANDING, NOSE GEAR COLLAPSED, TALK...        Incident   \n\n                  FSDO_DESC  ... PAX_INJ_NONE PAX_INJ_MINOR PAX_INJ_SERIOUS  \\\n0     FAA Charlotte FSDO-68  ...          NaN           NaN             NaN   \n1         FAA Miami FSDO-19  ...          NaN           NaN             NaN   \n2  FAA Philadelphia FSDO-17  ...          NaN           NaN             NaN   \n3     FAA Charlotte FSDO-68  ...          NaN           NaN             NaN   \n4     FAA Anchorage FSDO-03  ...          NaN           1.0             NaN   \n\n  PAX_INJ_FATAL PAX_INJ_UNK  GRND_INJ_NONE GRND_INJ_MINOR GRND_INJ_SERIOUS  \\\n0           NaN         NaN            NaN            NaN              NaN   \n1           NaN         NaN            NaN            NaN              NaN   \n2           NaN         NaN            NaN            NaN              NaN   \n3           NaN         NaN            NaN            NaN              NaN   \n4           NaN         NaN            NaN            NaN              NaN   \n\n  GRND_INJ_FATAL  GRND_INJ_UNK  \n0            NaN           NaN  \n1            NaN           NaN  \n2            NaN           NaN  \n3            NaN           NaN  \n4            NaN           NaN  \n\n[5 rows x 42 columns]",
            "text/html": "<div>\n<style scoped>\n    .dataframe tbody tr th:only-of-type {\n        vertical-align: middle;\n    }\n\n    .dataframe tbody tr th {\n        vertical-align: top;\n    }\n\n    .dataframe thead th {\n        text-align: right;\n    }\n</style>\n<table border=\"1\" class=\"dataframe\">\n  <thead>\n    <tr style=\"text-align: right;\">\n      <th></th>\n      <th>UPDATED</th>\n      <th>ENTRY_DATE</th>\n      <th>EVENT_LCL_DATE</th>\n      <th>EVENT_LCL_TIME</th>\n      <th>LOC_CITY_NAME</th>\n      <th>LOC_STATE_NAME</th>\n      <th>LOC_CNTRY_NAME</th>\n      <th>RMK_TEXT</th>\n      <th>EVENT_TYPE_DESC</th>\n      <th>FSDO_DESC</th>\n      <th>...</th>\n      <th>PAX_INJ_NONE</th>\n      <th>PAX_INJ_MINOR</th>\n      <th>PAX_INJ_SERIOUS</th>\n      <th>PAX_INJ_FATAL</th>\n      <th>PAX_INJ_UNK</th>\n      <th>GRND_INJ_NONE</th>\n      <th>GRND_INJ_MINOR</th>\n      <th>GRND_INJ_SERIOUS</th>\n      <th>GRND_INJ_FATAL</th>\n      <th>GRND_INJ_UNK</th>\n    </tr>\n  </thead>\n  <tbody>\n    <tr>\n      <th>0</th>\n      <td>No</td>\n      <td>19-FEB-16</td>\n      <td>19-FEB-16</td>\n      <td>00:45:00Z</td>\n      <td>MARSHVILLE</td>\n      <td>North Carolina</td>\n      <td>NaN</td>\n      <td>AIRCRAFT CRASHED INTO TREES, THE 1 PERSON ON B...</td>\n      <td>Accident</td>\n      <td>FAA Charlotte FSDO-68</td>\n      <td>...</td>\n      <td>NaN</td>\n      <td>NaN</td>\n      <td>NaN</td>\n      <td>NaN</td>\n      <td>NaN</td>\n      <td>NaN</td>\n      <td>NaN</td>\n      <td>NaN</td>\n      <td>NaN</td>\n      <td>NaN</td>\n    </tr>\n    <tr>\n      <th>1</th>\n      <td>No</td>\n      <td>19-FEB-16</td>\n      <td>18-FEB-16</td>\n      <td>23:55:00Z</td>\n      <td>TAVERNIER</td>\n      <td>Florida</td>\n      <td>NaN</td>\n      <td>AIRCRAFT ON LANDING WENT OFF THE END OF THE RU...</td>\n      <td>Incident</td>\n      <td>FAA Miami FSDO-19</td>\n      <td>...</td>\n      <td>NaN</td>\n      <td>NaN</td>\n      <td>NaN</td>\n      <td>NaN</td>\n      <td>NaN</td>\n      <td>NaN</td>\n      <td>NaN</td>\n      <td>NaN</td>\n      <td>NaN</td>\n      <td>NaN</td>\n    </tr>\n    <tr>\n      <th>2</th>\n      <td>No</td>\n      <td>19-FEB-16</td>\n      <td>18-FEB-16</td>\n      <td>22:14:00Z</td>\n      <td>TRENTON</td>\n      <td>New Jersey</td>\n      <td>NaN</td>\n      <td>AIRCRAFT ON FINAL SUSTAINED A BIRD STRIKE, LAN...</td>\n      <td>Incident</td>\n      <td>FAA Philadelphia FSDO-17</td>\n      <td>...</td>\n      <td>NaN</td>\n      <td>NaN</td>\n      <td>NaN</td>\n      <td>NaN</td>\n      <td>NaN</td>\n      <td>NaN</td>\n      <td>NaN</td>\n      <td>NaN</td>\n      <td>NaN</td>\n      <td>NaN</td>\n    </tr>\n    <tr>\n      <th>3</th>\n      <td>No</td>\n      <td>19-FEB-16</td>\n      <td>18-FEB-16</td>\n      <td>17:10:00Z</td>\n      <td>ASHEVILLE</td>\n      <td>North Carolina</td>\n      <td>NaN</td>\n      <td>AIRCRAFT ON LANDING, GEAR COLLAPSED, ASHEVILLE...</td>\n      <td>Incident</td>\n      <td>FAA Charlotte FSDO-68</td>\n      <td>...</td>\n      <td>NaN</td>\n      <td>NaN</td>\n      <td>NaN</td>\n      <td>NaN</td>\n      <td>NaN</td>\n      <td>NaN</td>\n      <td>NaN</td>\n      <td>NaN</td>\n      <td>NaN</td>\n      <td>NaN</td>\n    </tr>\n    <tr>\n      <th>4</th>\n      <td>No</td>\n      <td>19-FEB-16</td>\n      <td>18-FEB-16</td>\n      <td>00:26:00Z</td>\n      <td>TALKEETNA</td>\n      <td>Alaska</td>\n      <td>NaN</td>\n      <td>AIRCRAFT ON LANDING, NOSE GEAR COLLAPSED, TALK...</td>\n      <td>Incident</td>\n      <td>FAA Anchorage FSDO-03</td>\n      <td>...</td>\n      <td>NaN</td>\n      <td>1.0</td>\n      <td>NaN</td>\n      <td>NaN</td>\n      <td>NaN</td>\n      <td>NaN</td>\n      <td>NaN</td>\n      <td>NaN</td>\n      <td>NaN</td>\n      <td>NaN</td>\n    </tr>\n  </tbody>\n</table>\n<p>5 rows × 42 columns</p>\n</div>"
          },
          "metadata": {}
        }
      ]
    },
    {
      "cell_type": "code",
      "source": "dataset.columns",
      "metadata": {
        "trusted": true
      },
      "execution_count": 10,
      "outputs": [
        {
          "execution_count": 10,
          "output_type": "execute_result",
          "data": {
            "text/plain": "Index(['UPDATED', 'ENTRY_DATE', 'EVENT_LCL_DATE', 'EVENT_LCL_TIME',\n       'LOC_CITY_NAME', 'LOC_STATE_NAME', 'LOC_CNTRY_NAME', 'RMK_TEXT',\n       'EVENT_TYPE_DESC', 'FSDO_DESC', 'REGIST_NBR', 'FLT_NBR', 'ACFT_OPRTR',\n       'ACFT_MAKE_NAME', 'ACFT_MODEL_NAME', 'ACFT_MISSING_FLAG',\n       'ACFT_DMG_DESC', 'FLT_ACTIVITY', 'FLT_PHASE', 'FAR_PART', 'MAX_INJ_LVL',\n       'FATAL_FLAG', 'FLT_CRW_INJ_NONE', 'FLT_CRW_INJ_MINOR',\n       'FLT_CRW_INJ_SERIOUS', 'FLT_CRW_INJ_FATAL', 'FLT_CRW_INJ_UNK',\n       'CBN_CRW_INJ_NONE', 'CBN_CRW_INJ_MINOR', 'CBN_CRW_INJ_SERIOUS',\n       'CBN_CRW_INJ_FATAL', 'CBN_CRW_INJ_UNK', 'PAX_INJ_NONE', 'PAX_INJ_MINOR',\n       'PAX_INJ_SERIOUS', 'PAX_INJ_FATAL', 'PAX_INJ_UNK', 'GRND_INJ_NONE',\n       'GRND_INJ_MINOR', 'GRND_INJ_SERIOUS', 'GRND_INJ_FATAL', 'GRND_INJ_UNK'],\n      dtype='object')"
          },
          "metadata": {}
        }
      ]
    },
    {
      "cell_type": "code",
      "source": "dataset_analyze = dataset[['ACFT_MAKE_NAME', 'ACFT_MODEL_NAME','LOC_STATE_NAME', 'RMK_TEXT'\n                          , 'FLT_PHASE','EVENT_TYPE_DESC','FATAL_FLAG']]",
      "metadata": {
        "trusted": true
      },
      "execution_count": 11,
      "outputs": []
    },
    {
      "cell_type": "code",
      "source": "type(dataset_analyze)",
      "metadata": {
        "trusted": true
      },
      "execution_count": 14,
      "outputs": [
        {
          "execution_count": 14,
          "output_type": "execute_result",
          "data": {
            "text/plain": "pandas.core.frame.DataFrame"
          },
          "metadata": {}
        }
      ]
    },
    {
      "cell_type": "code",
      "source": "dataset_analyze.head()",
      "metadata": {
        "trusted": true
      },
      "execution_count": 15,
      "outputs": [
        {
          "execution_count": 15,
          "output_type": "execute_result",
          "data": {
            "text/plain": "  ACFT_MAKE_NAME ACFT_MODEL_NAME  LOC_STATE_NAME  \\\n0          BEECH              36  North Carolina   \n1           VANS             RV7         Florida   \n2         CESSNA             172      New Jersey   \n3        LANCAIR             235  North Carolina   \n4         CESSNA             172          Alaska   \n\n                                            RMK_TEXT       FLT_PHASE  \\\n0  AIRCRAFT CRASHED INTO TREES, THE 1 PERSON ON B...   UNKNOWN (UNK)   \n1  AIRCRAFT ON LANDING WENT OFF THE END OF THE RU...   LANDING (LDG)   \n2  AIRCRAFT ON FINAL SUSTAINED A BIRD STRIKE, LAN...  APPROACH (APR)   \n3  AIRCRAFT ON LANDING, GEAR COLLAPSED, ASHEVILLE...   LANDING (LDG)   \n4  AIRCRAFT ON LANDING, NOSE GEAR COLLAPSED, TALK...   LANDING (LDG)   \n\n  EVENT_TYPE_DESC FATAL_FLAG  \n0        Accident        Yes  \n1        Incident        NaN  \n2        Incident        NaN  \n3        Incident        NaN  \n4        Incident        NaN  ",
            "text/html": "<div>\n<style scoped>\n    .dataframe tbody tr th:only-of-type {\n        vertical-align: middle;\n    }\n\n    .dataframe tbody tr th {\n        vertical-align: top;\n    }\n\n    .dataframe thead th {\n        text-align: right;\n    }\n</style>\n<table border=\"1\" class=\"dataframe\">\n  <thead>\n    <tr style=\"text-align: right;\">\n      <th></th>\n      <th>ACFT_MAKE_NAME</th>\n      <th>ACFT_MODEL_NAME</th>\n      <th>LOC_STATE_NAME</th>\n      <th>RMK_TEXT</th>\n      <th>FLT_PHASE</th>\n      <th>EVENT_TYPE_DESC</th>\n      <th>FATAL_FLAG</th>\n    </tr>\n  </thead>\n  <tbody>\n    <tr>\n      <th>0</th>\n      <td>BEECH</td>\n      <td>36</td>\n      <td>North Carolina</td>\n      <td>AIRCRAFT CRASHED INTO TREES, THE 1 PERSON ON B...</td>\n      <td>UNKNOWN (UNK)</td>\n      <td>Accident</td>\n      <td>Yes</td>\n    </tr>\n    <tr>\n      <th>1</th>\n      <td>VANS</td>\n      <td>RV7</td>\n      <td>Florida</td>\n      <td>AIRCRAFT ON LANDING WENT OFF THE END OF THE RU...</td>\n      <td>LANDING (LDG)</td>\n      <td>Incident</td>\n      <td>NaN</td>\n    </tr>\n    <tr>\n      <th>2</th>\n      <td>CESSNA</td>\n      <td>172</td>\n      <td>New Jersey</td>\n      <td>AIRCRAFT ON FINAL SUSTAINED A BIRD STRIKE, LAN...</td>\n      <td>APPROACH (APR)</td>\n      <td>Incident</td>\n      <td>NaN</td>\n    </tr>\n    <tr>\n      <th>3</th>\n      <td>LANCAIR</td>\n      <td>235</td>\n      <td>North Carolina</td>\n      <td>AIRCRAFT ON LANDING, GEAR COLLAPSED, ASHEVILLE...</td>\n      <td>LANDING (LDG)</td>\n      <td>Incident</td>\n      <td>NaN</td>\n    </tr>\n    <tr>\n      <th>4</th>\n      <td>CESSNA</td>\n      <td>172</td>\n      <td>Alaska</td>\n      <td>AIRCRAFT ON LANDING, NOSE GEAR COLLAPSED, TALK...</td>\n      <td>LANDING (LDG)</td>\n      <td>Incident</td>\n      <td>NaN</td>\n    </tr>\n  </tbody>\n</table>\n</div>"
          },
          "metadata": {}
        }
      ]
    },
    {
      "cell_type": "code",
      "source": "dataset_analyze['FATAL_FLAG'].fillna(value='No',inplace=True)",
      "metadata": {
        "trusted": true
      },
      "execution_count": 16,
      "outputs": [
        {
          "name": "stderr",
          "text": "<ipython-input-16-d8edde5793d7>:1: SettingWithCopyWarning: \nA value is trying to be set on a copy of a slice from a DataFrame\n\nSee the caveats in the documentation: https://pandas.pydata.org/pandas-docs/stable/user_guide/indexing.html#returning-a-view-versus-a-copy\n  dataset_analyze['FATAL_FLAG'].fillna(value='No',inplace=True)\n",
          "output_type": "stream"
        }
      ]
    },
    {
      "cell_type": "code",
      "source": "dataset_analyze.head()",
      "metadata": {
        "trusted": true
      },
      "execution_count": 17,
      "outputs": [
        {
          "execution_count": 17,
          "output_type": "execute_result",
          "data": {
            "text/plain": "  ACFT_MAKE_NAME ACFT_MODEL_NAME  LOC_STATE_NAME  \\\n0          BEECH              36  North Carolina   \n1           VANS             RV7         Florida   \n2         CESSNA             172      New Jersey   \n3        LANCAIR             235  North Carolina   \n4         CESSNA             172          Alaska   \n\n                                            RMK_TEXT       FLT_PHASE  \\\n0  AIRCRAFT CRASHED INTO TREES, THE 1 PERSON ON B...   UNKNOWN (UNK)   \n1  AIRCRAFT ON LANDING WENT OFF THE END OF THE RU...   LANDING (LDG)   \n2  AIRCRAFT ON FINAL SUSTAINED A BIRD STRIKE, LAN...  APPROACH (APR)   \n3  AIRCRAFT ON LANDING, GEAR COLLAPSED, ASHEVILLE...   LANDING (LDG)   \n4  AIRCRAFT ON LANDING, NOSE GEAR COLLAPSED, TALK...   LANDING (LDG)   \n\n  EVENT_TYPE_DESC FATAL_FLAG  \n0        Accident        Yes  \n1        Incident         No  \n2        Incident         No  \n3        Incident         No  \n4        Incident         No  ",
            "text/html": "<div>\n<style scoped>\n    .dataframe tbody tr th:only-of-type {\n        vertical-align: middle;\n    }\n\n    .dataframe tbody tr th {\n        vertical-align: top;\n    }\n\n    .dataframe thead th {\n        text-align: right;\n    }\n</style>\n<table border=\"1\" class=\"dataframe\">\n  <thead>\n    <tr style=\"text-align: right;\">\n      <th></th>\n      <th>ACFT_MAKE_NAME</th>\n      <th>ACFT_MODEL_NAME</th>\n      <th>LOC_STATE_NAME</th>\n      <th>RMK_TEXT</th>\n      <th>FLT_PHASE</th>\n      <th>EVENT_TYPE_DESC</th>\n      <th>FATAL_FLAG</th>\n    </tr>\n  </thead>\n  <tbody>\n    <tr>\n      <th>0</th>\n      <td>BEECH</td>\n      <td>36</td>\n      <td>North Carolina</td>\n      <td>AIRCRAFT CRASHED INTO TREES, THE 1 PERSON ON B...</td>\n      <td>UNKNOWN (UNK)</td>\n      <td>Accident</td>\n      <td>Yes</td>\n    </tr>\n    <tr>\n      <th>1</th>\n      <td>VANS</td>\n      <td>RV7</td>\n      <td>Florida</td>\n      <td>AIRCRAFT ON LANDING WENT OFF THE END OF THE RU...</td>\n      <td>LANDING (LDG)</td>\n      <td>Incident</td>\n      <td>No</td>\n    </tr>\n    <tr>\n      <th>2</th>\n      <td>CESSNA</td>\n      <td>172</td>\n      <td>New Jersey</td>\n      <td>AIRCRAFT ON FINAL SUSTAINED A BIRD STRIKE, LAN...</td>\n      <td>APPROACH (APR)</td>\n      <td>Incident</td>\n      <td>No</td>\n    </tr>\n    <tr>\n      <th>3</th>\n      <td>LANCAIR</td>\n      <td>235</td>\n      <td>North Carolina</td>\n      <td>AIRCRAFT ON LANDING, GEAR COLLAPSED, ASHEVILLE...</td>\n      <td>LANDING (LDG)</td>\n      <td>Incident</td>\n      <td>No</td>\n    </tr>\n    <tr>\n      <th>4</th>\n      <td>CESSNA</td>\n      <td>172</td>\n      <td>Alaska</td>\n      <td>AIRCRAFT ON LANDING, NOSE GEAR COLLAPSED, TALK...</td>\n      <td>LANDING (LDG)</td>\n      <td>Incident</td>\n      <td>No</td>\n    </tr>\n  </tbody>\n</table>\n</div>"
          },
          "metadata": {}
        }
      ]
    },
    {
      "cell_type": "code",
      "source": "dataset_analyze.shape",
      "metadata": {
        "trusted": true
      },
      "execution_count": 18,
      "outputs": [
        {
          "execution_count": 18,
          "output_type": "execute_result",
          "data": {
            "text/plain": "(83, 7)"
          },
          "metadata": {}
        }
      ]
    },
    {
      "cell_type": "code",
      "source": "dataset_analyze = dataset_analyze.dropna(subset=['ACFT_MAKE_NAME'])",
      "metadata": {
        "trusted": true
      },
      "execution_count": 19,
      "outputs": []
    },
    {
      "cell_type": "code",
      "source": "dataset_analyze.shape",
      "metadata": {
        "trusted": true
      },
      "execution_count": 20,
      "outputs": [
        {
          "execution_count": 20,
          "output_type": "execute_result",
          "data": {
            "text/plain": "(78, 7)"
          },
          "metadata": {}
        }
      ]
    },
    {
      "cell_type": "code",
      "source": "ACFTgroup = dataset_analyze.groupby('ACFT_MAKE_NAME')",
      "metadata": {
        "trusted": true
      },
      "execution_count": 21,
      "outputs": []
    },
    {
      "cell_type": "code",
      "source": "ACFTgroup.size()",
      "metadata": {
        "collapsed": true,
        "jupyter": {
          "outputs_hidden": true
        },
        "tags": [],
        "trusted": true
      },
      "execution_count": 24,
      "outputs": [
        {
          "execution_count": 24,
          "output_type": "execute_result",
          "data": {
            "text/plain": "ACFT_MAKE_NAME\nAERO COMMANDER             1\nAERONCA                    1\nAEROSTAR INTERNATIONAL     1\nAIRBUS                     1\nBEECH                      9\nBELL                       2\nBOEING                     3\nCESSNA                    23\nCHAMPION                   2\nCHRISTEN                   1\nCONSOLIDATED VULTEE        1\nEMBRAER                    1\nENSTROM                    1\nFAIRCHILD                  1\nFLIGHT DESIGN              1\nGLOBE                      1\nGREAT LAKES                1\nGRUMMAN                    1\nGULFSTREAM                 1\nHUGHES                     1\nLANCAIR                    2\nMAULE                      1\nMOONEY                     4\nNORTH AMERICAN             1\nPIPER                     10\nPITTS                      1\nSAAB                       1\nSABRELINER                 1\nSOCATA                     2\nVANS                       1\ndtype: int64"
          },
          "metadata": {}
        }
      ]
    },
    {
      "cell_type": "code",
      "source": "Fatalevents = dataset_analyze.groupby('FATAL_FLAG')",
      "metadata": {
        "trusted": true
      },
      "execution_count": 25,
      "outputs": []
    },
    {
      "cell_type": "code",
      "source": "Fatalevents.size()",
      "metadata": {
        "trusted": true
      },
      "execution_count": 26,
      "outputs": [
        {
          "execution_count": 26,
          "output_type": "execute_result",
          "data": {
            "text/plain": "FATAL_FLAG\nNo     71\nYes     7\ndtype: int64"
          },
          "metadata": {}
        }
      ]
    },
    {
      "cell_type": "code",
      "source": "accidental_events = Fatalevents.get_group('Yes')",
      "metadata": {
        "trusted": true
      },
      "execution_count": 27,
      "outputs": []
    },
    {
      "cell_type": "code",
      "source": "accidental_events",
      "metadata": {
        "trusted": true
      },
      "execution_count": 28,
      "outputs": [
        {
          "execution_count": 28,
          "output_type": "execute_result",
          "data": {
            "text/plain": "    ACFT_MAKE_NAME ACFT_MODEL_NAME  LOC_STATE_NAME  \\\n0            BEECH              36  North Carolina   \n53           PIPER            PA28         Florida   \n55   FLIGHT DESIGN            CTLS      California   \n79  NORTH AMERICAN             F51         Arizona   \n80        CHAMPION           8KCAB      California   \n81           BEECH              35      California   \n82          CESSNA             182         Alabama   \n\n                                             RMK_TEXT      FLT_PHASE  \\\n0   AIRCRAFT CRASHED INTO TREES, THE 1 PERSON ON B...  UNKNOWN (UNK)   \n53  AIRCRAFT CRASHED UNDER UNKNOWN CIRCUMSTANCES. ...  UNKNOWN (UNK)   \n55  AIRCRAFT CRASHED UNDER UNKNOWN CIRCUMSTANCES A...  UNKNOWN (UNK)   \n79  AIRCRAFT CRASHED UNDER UNKNOWN CIRCUMSTANCES, ...  UNKNOWN (UNK)   \n80  N9872R, BEECH M35 AIRCRAFT, AND N5057G, BELLAN...  UNKNOWN (UNK)   \n81  N9872R, BEECH M35 AIRCRAFT, AND N5057G, BELLAN...  UNKNOWN (UNK)   \n82  N784CP AIRCRAFT CRASHED INTO A WOODED AREA NEA...  UNKNOWN (UNK)   \n\n   EVENT_TYPE_DESC FATAL_FLAG  \n0         Accident        Yes  \n53        Accident        Yes  \n55        Accident        Yes  \n79        Accident        Yes  \n80        Accident        Yes  \n81        Accident        Yes  \n82        Accident        Yes  ",
            "text/html": "<div>\n<style scoped>\n    .dataframe tbody tr th:only-of-type {\n        vertical-align: middle;\n    }\n\n    .dataframe tbody tr th {\n        vertical-align: top;\n    }\n\n    .dataframe thead th {\n        text-align: right;\n    }\n</style>\n<table border=\"1\" class=\"dataframe\">\n  <thead>\n    <tr style=\"text-align: right;\">\n      <th></th>\n      <th>ACFT_MAKE_NAME</th>\n      <th>ACFT_MODEL_NAME</th>\n      <th>LOC_STATE_NAME</th>\n      <th>RMK_TEXT</th>\n      <th>FLT_PHASE</th>\n      <th>EVENT_TYPE_DESC</th>\n      <th>FATAL_FLAG</th>\n    </tr>\n  </thead>\n  <tbody>\n    <tr>\n      <th>0</th>\n      <td>BEECH</td>\n      <td>36</td>\n      <td>North Carolina</td>\n      <td>AIRCRAFT CRASHED INTO TREES, THE 1 PERSON ON B...</td>\n      <td>UNKNOWN (UNK)</td>\n      <td>Accident</td>\n      <td>Yes</td>\n    </tr>\n    <tr>\n      <th>53</th>\n      <td>PIPER</td>\n      <td>PA28</td>\n      <td>Florida</td>\n      <td>AIRCRAFT CRASHED UNDER UNKNOWN CIRCUMSTANCES. ...</td>\n      <td>UNKNOWN (UNK)</td>\n      <td>Accident</td>\n      <td>Yes</td>\n    </tr>\n    <tr>\n      <th>55</th>\n      <td>FLIGHT DESIGN</td>\n      <td>CTLS</td>\n      <td>California</td>\n      <td>AIRCRAFT CRASHED UNDER UNKNOWN CIRCUMSTANCES A...</td>\n      <td>UNKNOWN (UNK)</td>\n      <td>Accident</td>\n      <td>Yes</td>\n    </tr>\n    <tr>\n      <th>79</th>\n      <td>NORTH AMERICAN</td>\n      <td>F51</td>\n      <td>Arizona</td>\n      <td>AIRCRAFT CRASHED UNDER UNKNOWN CIRCUMSTANCES, ...</td>\n      <td>UNKNOWN (UNK)</td>\n      <td>Accident</td>\n      <td>Yes</td>\n    </tr>\n    <tr>\n      <th>80</th>\n      <td>CHAMPION</td>\n      <td>8KCAB</td>\n      <td>California</td>\n      <td>N9872R, BEECH M35 AIRCRAFT, AND N5057G, BELLAN...</td>\n      <td>UNKNOWN (UNK)</td>\n      <td>Accident</td>\n      <td>Yes</td>\n    </tr>\n    <tr>\n      <th>81</th>\n      <td>BEECH</td>\n      <td>35</td>\n      <td>California</td>\n      <td>N9872R, BEECH M35 AIRCRAFT, AND N5057G, BELLAN...</td>\n      <td>UNKNOWN (UNK)</td>\n      <td>Accident</td>\n      <td>Yes</td>\n    </tr>\n    <tr>\n      <th>82</th>\n      <td>CESSNA</td>\n      <td>182</td>\n      <td>Alabama</td>\n      <td>N784CP AIRCRAFT CRASHED INTO A WOODED AREA NEA...</td>\n      <td>UNKNOWN (UNK)</td>\n      <td>Accident</td>\n      <td>Yes</td>\n    </tr>\n  </tbody>\n</table>\n</div>"
          },
          "metadata": {}
        }
      ]
    },
    {
      "cell_type": "code",
      "source": "",
      "metadata": {},
      "execution_count": null,
      "outputs": []
    }
  ]
}
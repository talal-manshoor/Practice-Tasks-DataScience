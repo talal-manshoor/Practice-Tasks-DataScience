{
  "metadata": {
    "language_info": {
      "codemirror_mode": {
        "name": "python",
        "version": 3
      },
      "file_extension": ".py",
      "mimetype": "text/x-python",
      "name": "python",
      "nbconvert_exporter": "python",
      "pygments_lexer": "ipython3",
      "version": "3.8"
    },
    "kernelspec": {
      "name": "python",
      "display_name": "Python (Pyodide)",
      "language": "python"
    }
  },
  "nbformat_minor": 4,
  "nbformat": 4,
  "cells": [
    {
      "cell_type": "code",
      "source": "import pandas as pd \nFDNYdata = pd.read_csv(\"FDNY.csv\")\nFDNYdata.describe",
      "metadata": {
        "tags": [],
        "jupyter": {
          "source_hidden": true,
          "outputs_hidden": true
        },
        "collapsed": true,
        "trusted": true
      },
      "execution_count": 1,
      "outputs": [
        {
          "execution_count": 1,
          "output_type": "execute_result",
          "data": {
            "text/plain": "<bound method NDFrame.describe of      _id                                       FacilityName  \\\n0      1                                 Engine 4/Ladder 15   \n1      2                                Engine 10/Ladder 10   \n2      3                                           Engine 6   \n3      4  Engine 7/Ladder 1/Battalion 1/Manhattan Boroug...   \n4      5                                           Ladder 8   \n..   ...                                                ...   \n213  214                  Engine 162/Ladder 82/Battalion 23   \n214  215                               Engine 167/Ladder 87   \n215  216                               Engine 164/Ladder 84   \n216  217                          Engine 168/EMS Station 23   \n217  218                               Engine 151/Ladder 76   \n\n              FacilityAddress        Borough  Postcode   Latitude  Longitude  \\\n0             42 South Street      Manhattan   10005.0  40.703466 -74.007538   \n1          124 Liberty Street      Manhattan   10006.0  40.710072 -74.012523   \n2           49 Beekman Street      Manhattan   10038.0  40.710048 -74.005245   \n3        100-104 Duane Street      Manhattan   10007.0  40.715463 -74.005938   \n4       14 North Moore Street      Manhattan   10013.0  40.719759 -74.006678   \n..                        ...            ...       ...        ...        ...   \n213         256 Nelson Avenue  Staten Island   10308.0  40.543205 -74.147097   \n214         345 Annadale Road  Staten Island   10312.0  40.554174 -74.175809   \n215  1560 Drumgoole Road West  Staten Island   10312.0  40.535332 -74.195611   \n216     1100 Rossville Avenue  Staten Island   10309.0  40.553977 -74.212812   \n217           7219 Amboy Road  Staten Island   10307.0  40.512518 -74.238822   \n\n     Community Board  Community Council  Census Tract        BIN  \\\n0                1.0                1.0           7.0  1000867.0   \n1                1.0                1.0          13.0  1075700.0   \n2                1.0                1.0        1501.0  1001287.0   \n3                1.0                1.0          33.0  1001647.0   \n4                1.0                1.0          33.0  1002150.0   \n..               ...                ...           ...        ...   \n213              3.0               51.0       15601.0  5067428.0   \n214              3.0               51.0       17012.0  5075428.0   \n215              3.0               51.0       20804.0  5083491.0   \n216              3.0               51.0       20801.0  5154879.0   \n217              3.0               51.0         248.0  5089056.0   \n\n              BBL                                                NTA  \n0    1.000350e+09  Battery Park City-Lower Manhattan             ...  \n1    1.000520e+09  Battery Park City-Lower Manhattan             ...  \n2    1.000930e+09  Battery Park City-Lower Manhattan             ...  \n3    1.001500e+09  SoHo-TriBeCa-Civic Center-Little Italy        ...  \n4    1.001890e+09  SoHo-TriBeCa-Civic Center-Little Italy        ...  \n..            ...                                                ...  \n213  5.052710e+09  Great Kills                                   ...  \n214  5.056420e+09  Annadale-Huguenot-Prince's Bay-Eltingville    ...  \n215  5.068280e+09  Rossville-Woodrow                             ...  \n216  5.070670e+09  Rossville-Woodrow                             ...  \n217  5.080400e+09  Charleston-Richmond Valley-Tottenville        ...  \n\n[218 rows x 13 columns]>"
          },
          "metadata": {}
        }
      ]
    },
    {
      "cell_type": "code",
      "source": "FDNYdata.columns",
      "metadata": {
        "trusted": true
      },
      "execution_count": 5,
      "outputs": [
        {
          "execution_count": 5,
          "output_type": "execute_result",
          "data": {
            "text/plain": "Index(['_id', 'FacilityName', 'FacilityAddress', 'Borough', 'Postcode',\n       'Latitude', 'Longitude', 'Community Board', 'Community Council',\n       'Census Tract', 'BIN', 'BBL', 'NTA'],\n      dtype='object')"
          },
          "metadata": {}
        }
      ]
    },
    {
      "cell_type": "code",
      "source": "FDNYdata_analyze = FDNYdata[['FacilityName', 'FacilityAddress', 'Borough']]\nFDNYdata_analyze.head()",
      "metadata": {
        "trusted": true
      },
      "execution_count": 6,
      "outputs": [
        {
          "execution_count": 6,
          "output_type": "execute_result",
          "data": {
            "text/plain": "                                        FacilityName        FacilityAddress  \\\n0                                 Engine 4/Ladder 15        42 South Street   \n1                                Engine 10/Ladder 10     124 Liberty Street   \n2                                           Engine 6      49 Beekman Street   \n3  Engine 7/Ladder 1/Battalion 1/Manhattan Boroug...   100-104 Duane Street   \n4                                           Ladder 8  14 North Moore Street   \n\n     Borough  \n0  Manhattan  \n1  Manhattan  \n2  Manhattan  \n3  Manhattan  \n4  Manhattan  ",
            "text/html": "<div>\n<style scoped>\n    .dataframe tbody tr th:only-of-type {\n        vertical-align: middle;\n    }\n\n    .dataframe tbody tr th {\n        vertical-align: top;\n    }\n\n    .dataframe thead th {\n        text-align: right;\n    }\n</style>\n<table border=\"1\" class=\"dataframe\">\n  <thead>\n    <tr style=\"text-align: right;\">\n      <th></th>\n      <th>FacilityName</th>\n      <th>FacilityAddress</th>\n      <th>Borough</th>\n    </tr>\n  </thead>\n  <tbody>\n    <tr>\n      <th>0</th>\n      <td>Engine 4/Ladder 15</td>\n      <td>42 South Street</td>\n      <td>Manhattan</td>\n    </tr>\n    <tr>\n      <th>1</th>\n      <td>Engine 10/Ladder 10</td>\n      <td>124 Liberty Street</td>\n      <td>Manhattan</td>\n    </tr>\n    <tr>\n      <th>2</th>\n      <td>Engine 6</td>\n      <td>49 Beekman Street</td>\n      <td>Manhattan</td>\n    </tr>\n    <tr>\n      <th>3</th>\n      <td>Engine 7/Ladder 1/Battalion 1/Manhattan Boroug...</td>\n      <td>100-104 Duane Street</td>\n      <td>Manhattan</td>\n    </tr>\n    <tr>\n      <th>4</th>\n      <td>Ladder 8</td>\n      <td>14 North Moore Street</td>\n      <td>Manhattan</td>\n    </tr>\n  </tbody>\n</table>\n</div>"
          },
          "metadata": {}
        }
      ]
    },
    {
      "cell_type": "code",
      "source": "FDNYdata_analyze.describe()",
      "metadata": {
        "trusted": true
      },
      "execution_count": 7,
      "outputs": [
        {
          "execution_count": 7,
          "output_type": "execute_result",
          "data": {
            "text/plain": "              FacilityName  FacilityAddress   Borough\ncount                  218              218       218\nunique                 218              218         5\ntop     Engine 4/Ladder 15  42 South Street  Brooklyn\nfreq                     1                1        66",
            "text/html": "<div>\n<style scoped>\n    .dataframe tbody tr th:only-of-type {\n        vertical-align: middle;\n    }\n\n    .dataframe tbody tr th {\n        vertical-align: top;\n    }\n\n    .dataframe thead th {\n        text-align: right;\n    }\n</style>\n<table border=\"1\" class=\"dataframe\">\n  <thead>\n    <tr style=\"text-align: right;\">\n      <th></th>\n      <th>FacilityName</th>\n      <th>FacilityAddress</th>\n      <th>Borough</th>\n    </tr>\n  </thead>\n  <tbody>\n    <tr>\n      <th>count</th>\n      <td>218</td>\n      <td>218</td>\n      <td>218</td>\n    </tr>\n    <tr>\n      <th>unique</th>\n      <td>218</td>\n      <td>218</td>\n      <td>5</td>\n    </tr>\n    <tr>\n      <th>top</th>\n      <td>Engine 4/Ladder 15</td>\n      <td>42 South Street</td>\n      <td>Brooklyn</td>\n    </tr>\n    <tr>\n      <th>freq</th>\n      <td>1</td>\n      <td>1</td>\n      <td>66</td>\n    </tr>\n  </tbody>\n</table>\n</div>"
          },
          "metadata": {}
        }
      ]
    },
    {
      "cell_type": "code",
      "source": "FDNYdata_analyze.columns",
      "metadata": {
        "trusted": true
      },
      "execution_count": 11,
      "outputs": [
        {
          "execution_count": 11,
          "output_type": "execute_result",
          "data": {
            "text/plain": "Index(['FacilityName', 'FacilityAddress', 'Borough'], dtype='object')"
          },
          "metadata": {}
        }
      ]
    },
    {
      "cell_type": "code",
      "source": "FDNYdata_analyze.index",
      "metadata": {
        "trusted": true
      },
      "execution_count": 12,
      "outputs": [
        {
          "execution_count": 12,
          "output_type": "execute_result",
          "data": {
            "text/plain": "RangeIndex(start=0, stop=218, step=1)"
          },
          "metadata": {}
        }
      ]
    },
    {
      "cell_type": "code",
      "source": "FDNYdata_analyze.count()",
      "metadata": {
        "trusted": true
      },
      "execution_count": 14,
      "outputs": [
        {
          "execution_count": 14,
          "output_type": "execute_result",
          "data": {
            "text/plain": "FacilityName       218\nFacilityAddress    218\nBorough            218\ndtype: int64"
          },
          "metadata": {}
        }
      ]
    },
    {
      "cell_type": "code",
      "source": "FDNYdata_analyze.dtypes",
      "metadata": {
        "trusted": true
      },
      "execution_count": 15,
      "outputs": [
        {
          "execution_count": 15,
          "output_type": "execute_result",
          "data": {
            "text/plain": "FacilityName       object\nFacilityAddress    object\nBorough            object\ndtype: object"
          },
          "metadata": {}
        }
      ]
    },
    {
      "cell_type": "code",
      "source": "groupby_borough = FDNYdata_analyze.groupby(\"Borough\")\ngroupby_borough.size()",
      "metadata": {
        "trusted": true
      },
      "execution_count": 18,
      "outputs": [
        {
          "execution_count": 18,
          "output_type": "execute_result",
          "data": {
            "text/plain": "Borough\nBronx            34\nBrooklyn         66\nManhattan        48\nQueens           50\nStaten Island    20\ndtype: int64"
          },
          "metadata": {}
        }
      ]
    },
    {
      "cell_type": "code",
      "source": "manhattam_info = groupby_borough.get_group(\"Manhattan\")\nmanhattam_info",
      "metadata": {
        "trusted": true
      },
      "execution_count": 20,
      "outputs": [
        {
          "execution_count": 20,
          "output_type": "execute_result",
          "data": {
            "text/plain": "                                         FacilityName  \\\n0                                  Engine 4/Ladder 15   \n1                                 Engine 10/Ladder 10   \n2                                            Engine 6   \n3   Engine 7/Ladder 1/Battalion 1/Manhattan Boroug...   \n4                                            Ladder 8   \n5                                   Engine 9/Ladder 6   \n6                     Engine 15/Ladder 18/Battalion 4   \n7                                 Engine 28/Ladder 11   \n8                                            Engine 5   \n9                                           Engine 55   \n10                               Ladder 20/Division 1   \n11                     Engine 24/Ladder 5/Battalion 2   \n12                                 Engine 33/Ladder 9   \n13                               Ladder 3/Battalion 6   \n14                                           Squad 18   \n15                                Engine 34/Ladder 21   \n16                                          Engine 26   \n17                     Engine 3/Ladder 12/Battalion 7   \n18                                 Engine 1/Ladder 24   \n19                                          Engine 14   \n20                              Engine 16 / Ladder 7    \n21                                          Engine 21   \n22                     Engine 54/Ladder 4/Battalion 9   \n23                                          Engine 23   \n24                                           Rescue 1   \n25                                Engine 40/Ladder 35   \n26             Ladder 25/District Office 4/Division 3   \n27                                          Engine 74   \n28                                          Engine 65   \n29                  Engine 8 / Ladder 2 / Battalion 8   \n30                                Engine 39/Ladder 16   \n31                                          Engine 44   \n32                   Engine 22/Ladder 13/Battalion 10   \n33                                Engine 58/Ladder 26   \n34                                Engine 53/Ladder 43   \n35                                          Engine 91   \n36                                Engine 35/Ladder 14   \n37                   Engine 76/Ladder 22/Battalion 11   \n38                                          Engine 47   \n39                                Engine 59/Ladder 30   \n40                                Engine 37/Ladder 40   \n41                   Engine 69/Ladder 28/Battalion 16   \n42                                Engine 80/Ladder 23   \n43                                Engine 84/Ladder 34   \n44                                          Engine 67   \n45                   Engine 93/Ladder 45/Battalion 13   \n46                                Engine 95/Ladder 36   \n47                                           Marine 1   \n\n                         FacilityAddress    Borough  \n0                        42 South Street  Manhattan  \n1                     124 Liberty Street  Manhattan  \n2                      49 Beekman Street  Manhattan  \n3                   100-104 Duane Street  Manhattan  \n4                  14 North Moore Street  Manhattan  \n5                        75 Canal Street  Manhattan  \n6                         25 Pitt Street  Manhattan  \n7                    222 East 2nd Street  Manhattan  \n8                   340 East 14th Street  Manhattan  \n9                      363 Broome Street  Manhattan  \n10                  253 Lafayette Street  Manhattan  \n11                     227-29 6th Avenue  Manhattan  \n12                 42 Great Jones Street  Manhattan  \n13                  108 East 13th Street  Manhattan  \n14                  132 West 10th Street  Manhattan  \n15                  440 West 38th Street  Manhattan  \n16                  220 West 37th Street  Manhattan  \n17                  150 West 19th Street  Manhattan  \n18               142-46 West 31st Street  Manhattan  \n19                   14 East 18th Street  Manhattan  \n20                  234 East 29th Street  Manhattan  \n21                  238 East 40th Street  Manhattan  \n22                        782 8th Avenue  Manhattan  \n23                  215 West 58th Street  Manhattan  \n24                  530 West 43rd Street  Manhattan  \n25                131 Amsterdam Avenue    Manhattan  \n26              205-207 West 77th Street  Manhattan  \n27                 120 West 83rd Street   Manhattan  \n28                   33 West 43rd Street  Manhattan  \n29                  167 East 51st Street  Manhattan  \n30               157-59 East 67th Street  Manhattan  \n31                  221 East 75th Street  Manhattan  \n32                  159 East 85th Street  Manhattan  \n33                       1367 5th Avenue  Manhattan  \n34                   1836-46 3rd  Avenue  Manhattan  \n35                 242 East 111th Street  Manhattan  \n36                       2282 3rd Avenue  Manhattan  \n37              145-51 West 100th Street  Manhattan  \n38                 502 West 113th Street  Manhattan  \n39                 111 West 133rd Street  Manhattan  \n40                 415 West 125th Street  Manhattan  \n41                 248 West 143rd Street  Manhattan  \n42                 503 West 139th Street  Manhattan  \n43                 513 West 161st Street  Manhattan  \n44                 518 West 170th Street  Manhattan  \n45                 515 West 181st Street  Manhattan  \n46                   29 Vermilyea Avenue  Manhattan  \n47  Little West 12th Street/Hudson River  Manhattan  ",
            "text/html": "<div>\n<style scoped>\n    .dataframe tbody tr th:only-of-type {\n        vertical-align: middle;\n    }\n\n    .dataframe tbody tr th {\n        vertical-align: top;\n    }\n\n    .dataframe thead th {\n        text-align: right;\n    }\n</style>\n<table border=\"1\" class=\"dataframe\">\n  <thead>\n    <tr style=\"text-align: right;\">\n      <th></th>\n      <th>FacilityName</th>\n      <th>FacilityAddress</th>\n      <th>Borough</th>\n    </tr>\n  </thead>\n  <tbody>\n    <tr>\n      <th>0</th>\n      <td>Engine 4/Ladder 15</td>\n      <td>42 South Street</td>\n      <td>Manhattan</td>\n    </tr>\n    <tr>\n      <th>1</th>\n      <td>Engine 10/Ladder 10</td>\n      <td>124 Liberty Street</td>\n      <td>Manhattan</td>\n    </tr>\n    <tr>\n      <th>2</th>\n      <td>Engine 6</td>\n      <td>49 Beekman Street</td>\n      <td>Manhattan</td>\n    </tr>\n    <tr>\n      <th>3</th>\n      <td>Engine 7/Ladder 1/Battalion 1/Manhattan Boroug...</td>\n      <td>100-104 Duane Street</td>\n      <td>Manhattan</td>\n    </tr>\n    <tr>\n      <th>4</th>\n      <td>Ladder 8</td>\n      <td>14 North Moore Street</td>\n      <td>Manhattan</td>\n    </tr>\n    <tr>\n      <th>5</th>\n      <td>Engine 9/Ladder 6</td>\n      <td>75 Canal Street</td>\n      <td>Manhattan</td>\n    </tr>\n    <tr>\n      <th>6</th>\n      <td>Engine 15/Ladder 18/Battalion 4</td>\n      <td>25 Pitt Street</td>\n      <td>Manhattan</td>\n    </tr>\n    <tr>\n      <th>7</th>\n      <td>Engine 28/Ladder 11</td>\n      <td>222 East 2nd Street</td>\n      <td>Manhattan</td>\n    </tr>\n    <tr>\n      <th>8</th>\n      <td>Engine 5</td>\n      <td>340 East 14th Street</td>\n      <td>Manhattan</td>\n    </tr>\n    <tr>\n      <th>9</th>\n      <td>Engine 55</td>\n      <td>363 Broome Street</td>\n      <td>Manhattan</td>\n    </tr>\n    <tr>\n      <th>10</th>\n      <td>Ladder 20/Division 1</td>\n      <td>253 Lafayette Street</td>\n      <td>Manhattan</td>\n    </tr>\n    <tr>\n      <th>11</th>\n      <td>Engine 24/Ladder 5/Battalion 2</td>\n      <td>227-29 6th Avenue</td>\n      <td>Manhattan</td>\n    </tr>\n    <tr>\n      <th>12</th>\n      <td>Engine 33/Ladder 9</td>\n      <td>42 Great Jones Street</td>\n      <td>Manhattan</td>\n    </tr>\n    <tr>\n      <th>13</th>\n      <td>Ladder 3/Battalion 6</td>\n      <td>108 East 13th Street</td>\n      <td>Manhattan</td>\n    </tr>\n    <tr>\n      <th>14</th>\n      <td>Squad 18</td>\n      <td>132 West 10th Street</td>\n      <td>Manhattan</td>\n    </tr>\n    <tr>\n      <th>15</th>\n      <td>Engine 34/Ladder 21</td>\n      <td>440 West 38th Street</td>\n      <td>Manhattan</td>\n    </tr>\n    <tr>\n      <th>16</th>\n      <td>Engine 26</td>\n      <td>220 West 37th Street</td>\n      <td>Manhattan</td>\n    </tr>\n    <tr>\n      <th>17</th>\n      <td>Engine 3/Ladder 12/Battalion 7</td>\n      <td>150 West 19th Street</td>\n      <td>Manhattan</td>\n    </tr>\n    <tr>\n      <th>18</th>\n      <td>Engine 1/Ladder 24</td>\n      <td>142-46 West 31st Street</td>\n      <td>Manhattan</td>\n    </tr>\n    <tr>\n      <th>19</th>\n      <td>Engine 14</td>\n      <td>14 East 18th Street</td>\n      <td>Manhattan</td>\n    </tr>\n    <tr>\n      <th>20</th>\n      <td>Engine 16 / Ladder 7</td>\n      <td>234 East 29th Street</td>\n      <td>Manhattan</td>\n    </tr>\n    <tr>\n      <th>21</th>\n      <td>Engine 21</td>\n      <td>238 East 40th Street</td>\n      <td>Manhattan</td>\n    </tr>\n    <tr>\n      <th>22</th>\n      <td>Engine 54/Ladder 4/Battalion 9</td>\n      <td>782 8th Avenue</td>\n      <td>Manhattan</td>\n    </tr>\n    <tr>\n      <th>23</th>\n      <td>Engine 23</td>\n      <td>215 West 58th Street</td>\n      <td>Manhattan</td>\n    </tr>\n    <tr>\n      <th>24</th>\n      <td>Rescue 1</td>\n      <td>530 West 43rd Street</td>\n      <td>Manhattan</td>\n    </tr>\n    <tr>\n      <th>25</th>\n      <td>Engine 40/Ladder 35</td>\n      <td>131 Amsterdam Avenue</td>\n      <td>Manhattan</td>\n    </tr>\n    <tr>\n      <th>26</th>\n      <td>Ladder 25/District Office 4/Division 3</td>\n      <td>205-207 West 77th Street</td>\n      <td>Manhattan</td>\n    </tr>\n    <tr>\n      <th>27</th>\n      <td>Engine 74</td>\n      <td>120 West 83rd Street</td>\n      <td>Manhattan</td>\n    </tr>\n    <tr>\n      <th>28</th>\n      <td>Engine 65</td>\n      <td>33 West 43rd Street</td>\n      <td>Manhattan</td>\n    </tr>\n    <tr>\n      <th>29</th>\n      <td>Engine 8 / Ladder 2 / Battalion 8</td>\n      <td>167 East 51st Street</td>\n      <td>Manhattan</td>\n    </tr>\n    <tr>\n      <th>30</th>\n      <td>Engine 39/Ladder 16</td>\n      <td>157-59 East 67th Street</td>\n      <td>Manhattan</td>\n    </tr>\n    <tr>\n      <th>31</th>\n      <td>Engine 44</td>\n      <td>221 East 75th Street</td>\n      <td>Manhattan</td>\n    </tr>\n    <tr>\n      <th>32</th>\n      <td>Engine 22/Ladder 13/Battalion 10</td>\n      <td>159 East 85th Street</td>\n      <td>Manhattan</td>\n    </tr>\n    <tr>\n      <th>33</th>\n      <td>Engine 58/Ladder 26</td>\n      <td>1367 5th Avenue</td>\n      <td>Manhattan</td>\n    </tr>\n    <tr>\n      <th>34</th>\n      <td>Engine 53/Ladder 43</td>\n      <td>1836-46 3rd  Avenue</td>\n      <td>Manhattan</td>\n    </tr>\n    <tr>\n      <th>35</th>\n      <td>Engine 91</td>\n      <td>242 East 111th Street</td>\n      <td>Manhattan</td>\n    </tr>\n    <tr>\n      <th>36</th>\n      <td>Engine 35/Ladder 14</td>\n      <td>2282 3rd Avenue</td>\n      <td>Manhattan</td>\n    </tr>\n    <tr>\n      <th>37</th>\n      <td>Engine 76/Ladder 22/Battalion 11</td>\n      <td>145-51 West 100th Street</td>\n      <td>Manhattan</td>\n    </tr>\n    <tr>\n      <th>38</th>\n      <td>Engine 47</td>\n      <td>502 West 113th Street</td>\n      <td>Manhattan</td>\n    </tr>\n    <tr>\n      <th>39</th>\n      <td>Engine 59/Ladder 30</td>\n      <td>111 West 133rd Street</td>\n      <td>Manhattan</td>\n    </tr>\n    <tr>\n      <th>40</th>\n      <td>Engine 37/Ladder 40</td>\n      <td>415 West 125th Street</td>\n      <td>Manhattan</td>\n    </tr>\n    <tr>\n      <th>41</th>\n      <td>Engine 69/Ladder 28/Battalion 16</td>\n      <td>248 West 143rd Street</td>\n      <td>Manhattan</td>\n    </tr>\n    <tr>\n      <th>42</th>\n      <td>Engine 80/Ladder 23</td>\n      <td>503 West 139th Street</td>\n      <td>Manhattan</td>\n    </tr>\n    <tr>\n      <th>43</th>\n      <td>Engine 84/Ladder 34</td>\n      <td>513 West 161st Street</td>\n      <td>Manhattan</td>\n    </tr>\n    <tr>\n      <th>44</th>\n      <td>Engine 67</td>\n      <td>518 West 170th Street</td>\n      <td>Manhattan</td>\n    </tr>\n    <tr>\n      <th>45</th>\n      <td>Engine 93/Ladder 45/Battalion 13</td>\n      <td>515 West 181st Street</td>\n      <td>Manhattan</td>\n    </tr>\n    <tr>\n      <th>46</th>\n      <td>Engine 95/Ladder 36</td>\n      <td>29 Vermilyea Avenue</td>\n      <td>Manhattan</td>\n    </tr>\n    <tr>\n      <th>47</th>\n      <td>Marine 1</td>\n      <td>Little West 12th Street/Hudson River</td>\n      <td>Manhattan</td>\n    </tr>\n  </tbody>\n</table>\n</div>"
          },
          "metadata": {}
        }
      ]
    },
    {
      "cell_type": "code",
      "source": "",
      "metadata": {},
      "execution_count": null,
      "outputs": []
    }
  ]
}